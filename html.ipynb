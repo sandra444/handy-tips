{
 "cells": [
  {
   "cell_type": "code",
   "execution_count": null,
   "metadata": {},
   "outputs": [],
   "source": [
    "# Handy things to remember for programming in HTML"
   ]
  },
  {
   "cell_type": "code",
   "execution_count": null,
   "metadata": {},
   "outputs": [],
   "source": [
    "# consider only using <p> tags for paragraphs (text only)\n",
    "# consider <br> tags to separate blocks of text (not other elements)\n"
   ]
  },
  {
   "cell_type": "code",
   "execution_count": null,
   "metadata": {},
   "outputs": [],
   "source": [
    "# collapse and expand with ONLY HTML and bootstrap\n",
    "<div>\n",
    "\t<div class=\"alert alert-info\" role=\"alert\">\n",
    "\t    <button class=\"btn btn-info\" type=\"button\" data-toggle=\"collapse\" data-target=\".example_expand\" aria-expanded=\"false\" aria-controls=\"example_expand\">\n",
    "\t        Show/Hide Page Help\n",
    "\t    </button>\n",
    "\t    <div class=\"collapse large-padding-top example_expand\">\n",
    "\n",
    "\t        <p>Tips and Notes:</p>\n",
    "\t        <ul>\n",
    "\t            <li>a tip or note</li>\n",
    "\t        </ul>\n",
    "\n",
    "\t    </div>\n",
    "\t</div>\n",
    "\n",
    "\n",
    "\t<div>\n",
    "\t\t<p>some more stuff on the page</p>\n",
    "\t</div>\n",
    "\n",
    "\t<div class=\"collapse large-padding-top example_expand\">\n",
    "\t    <div class=\"alert alert-info\" role=\"alert\">\n",
    "\t        <p>Another example with just a paragraph of information</p>\n",
    "\t\t    <ul>\n",
    "\t            <li>another tip or note</li>\n",
    "\t        </ul>\n",
    "\t    </div>\n",
    "\t</div>\n",
    "</div>"
   ]
  },
  {
   "cell_type": "code",
   "execution_count": null,
   "metadata": {},
   "outputs": [],
   "source": []
  }
 ],
 "metadata": {
  "kernelspec": {
   "display_name": "Python 3",
   "language": "python",
   "name": "python3"
  },
  "language_info": {
   "codemirror_mode": {
    "name": "ipython",
    "version": 3
   },
   "file_extension": ".py",
   "mimetype": "text/x-python",
   "name": "python",
   "nbconvert_exporter": "python",
   "pygments_lexer": "ipython3",
   "version": "3.7.1"
  }
 },
 "nbformat": 4,
 "nbformat_minor": 2
}
