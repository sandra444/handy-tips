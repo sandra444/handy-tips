{
 "cells": [
  {
   "cell_type": "code",
   "execution_count": null,
   "metadata": {},
   "outputs": [],
   "source": [
    "# Handy things to remember for programming in Python"
   ]
  },
  {
   "cell_type": "code",
   "execution_count": 5,
   "metadata": {},
   "outputs": [
    {
     "name": "stdout",
     "output_type": "stream",
     "text": [
      "a is A b is B\n",
      "a is A b is B\n",
      "a is A b is B\n"
     ]
    }
   ],
   "source": [
    "# Templating with kwargs\n",
    "# from Linkin Learning Ex_Files_Adv_Python\n",
    "\n",
    "from string import Template\n",
    "\n",
    "# .format\n",
    "str1 = \"a is {0} b is {1}\".format(\"A\", \"B\")\n",
    "print(str1)\n",
    "\n",
    "# make the template\n",
    "my_template = Template(\"a is ${a} b is ${b}\")\n",
    "\n",
    "# substitute with keyword arguments\n",
    "str2 = my_template.substitute(a=\"A\", b=\"B\")\n",
    "print(str2)\n",
    "\n",
    "# substitute with a dictionary\n",
    "dict = {\"a\": \"A\", \"b\": \"B\"}\n",
    "str3 = my_template.substitute(dict)    \n",
    "print(str3)"
   ]
  },
  {
   "cell_type": "code",
   "execution_count": 6,
   "metadata": {},
   "outputs": [
    {
     "name": "stdout",
     "output_type": "stream",
     "text": [
      "found\n"
     ]
    }
   ],
   "source": [
    "# instead of .find('substring') >= 0 in Python\n",
    "string_variable = 'abcde'\n",
    "if 'c' in string_variable:\n",
    "    print('found')   "
   ]
  },
  {
   "cell_type": "code",
   "execution_count": 7,
   "metadata": {},
   "outputs": [
    {
     "name": "stdout",
     "output_type": "stream",
     "text": [
      "Message1 | Message2 | Message3\n"
     ]
    }
   ],
   "source": [
    "# concatenating - an option to +\n",
    "# make a list\n",
    "list_to_make_string = []\n",
    "# add the strings\n",
    "list_to_make_string.append('Message1')\n",
    "list_to_make_string.append('Message2')\n",
    "list_to_make_string.append('Message3')\n",
    "# use the join function to make a string where they are all separated by the given delimiter\n",
    "new_string = ' | '.join(list_to_make_string)\n",
    "print(new_string)"
   ]
  },
  {
   "cell_type": "code",
   "execution_count": null,
   "metadata": {},
   "outputs": [],
   "source": [
    "# to use a model with a different return format\n",
    "# monkey patch to display method target and unit combo as needed \n",
    "class AbstractClassAssayStudyAssayOmic(AssayStudyAssay):\n",
    "    class Meta:\n",
    "        proxy = True\n",
    "\n",
    "    def __str__(self):\n",
    "        return 'TARGET: {0} METHOD: {1} UNIT: {2}'.format(self.target, self.method, self.unit)\n",
    "    \n",
    "# note, AssayStudyAssay is pk, study_id, target, method, unit"
   ]
  },
  {
   "cell_type": "code",
   "execution_count": null,
   "metadata": {},
   "outputs": [],
   "source": [
    "# streamline target__in instead of getting a list of pks and using that\n",
    "# AssayCategory has a name and targets = models.ManyToManyField('assays.AssayTarget', verbose_name='Targets')\n",
    "\n",
    "study_assay_queryset = AbstractClassAssayStudyAssayOmic.objects.filter(\n",
    "    study_id=self.instance.study.id,\n",
    ").filter(\n",
    "    target__in=AssayTarget.objects.filter(assaycategory__name=\"Gene Expression\")\n",
    ").prefetch_related(\n",
    "    'target',\n",
    "    'method',\n",
    "    'unit',\n",
    ")\n",
    "number_of_omic_targets_in_study = study_assay_queryset.count()\n",
    "# number will evaluate as a number or false, so can use if number...."
   ]
  },
  {
   "cell_type": "code",
   "execution_count": null,
   "metadata": {},
   "outputs": [],
   "source": [
    "# to add a class in forms, do \n",
    "self.fields['group_2'].widget.attrs['class'] += ' required'\n",
    "# the following replaces existing\n",
    "self.fields['group_2'].widget.attrs.update({'class': ' required'})"
   ]
  },
  {
   "cell_type": "code",
   "execution_count": null,
   "metadata": {},
   "outputs": [],
   "source": [
    "# if you need the pks, you can use .values_list('pk', flat=True)"
   ]
  },
  {
   "cell_type": "code",
   "execution_count": null,
   "metadata": {},
   "outputs": [],
   "source": [
    "# for large queries, make sure to use filters rather than \n",
    "# having a conditional if inside the dictionary comprehension (or whatever else)"
   ]
  },
  {
   "cell_type": "code",
   "execution_count": null,
   "metadata": {},
   "outputs": [],
   "source": []
  }
 ],
 "metadata": {
  "kernelspec": {
   "display_name": "Python 3",
   "language": "python",
   "name": "python3"
  },
  "language_info": {
   "codemirror_mode": {
    "name": "ipython",
    "version": 3
   },
   "file_extension": ".py",
   "mimetype": "text/x-python",
   "name": "python",
   "nbconvert_exporter": "python",
   "pygments_lexer": "ipython3",
   "version": "3.7.1"
  }
 },
 "nbformat": 4,
 "nbformat_minor": 2
}
