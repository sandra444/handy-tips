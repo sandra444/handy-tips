{
 "cells": [
  {
   "cell_type": "code",
   "execution_count": null,
   "metadata": {},
   "outputs": [],
   "source": [
    "# Handy things to remember for programming in Python"
   ]
  },
  {
   "cell_type": "code",
   "execution_count": 5,
   "metadata": {},
   "outputs": [
    {
     "name": "stdout",
     "output_type": "stream",
     "text": [
      "a is A b is B\n",
      "a is A b is B\n",
      "a is A b is B\n"
     ]
    }
   ],
   "source": [
    "# Templating with kwargs\n",
    "# from Linkin Learning Ex_Files_Adv_Python\n",
    "\n",
    "from string import Template\n",
    "\n",
    "# .format\n",
    "str1 = \"a is {0} b is {1}\".format(\"A\", \"B\")\n",
    "print(str1)\n",
    "\n",
    "# make the template\n",
    "my_template = Template(\"a is ${a} b is ${b}\")\n",
    "\n",
    "# substitute with keyword arguments\n",
    "str2 = my_template.substitute(a=\"A\", b=\"B\")\n",
    "print(str2)\n",
    "\n",
    "# substitute with a dictionary\n",
    "dict = {\"a\": \"A\", \"b\": \"B\"}\n",
    "str3 = my_template.substitute(dict)    \n",
    "print(str3)"
   ]
  },
  {
   "cell_type": "code",
   "execution_count": 6,
   "metadata": {},
   "outputs": [
    {
     "name": "stdout",
     "output_type": "stream",
     "text": [
      "found\n"
     ]
    }
   ],
   "source": [
    "# instead of .find('substring') >= 0 in Python\n",
    "string_variable = 'abcde'\n",
    "if 'c' in string_variable:\n",
    "    print('found')   "
   ]
  },
  {
   "cell_type": "code",
   "execution_count": 7,
   "metadata": {},
   "outputs": [
    {
     "name": "stdout",
     "output_type": "stream",
     "text": [
      "Message1 | Message2 | Message3\n"
     ]
    }
   ],
   "source": [
    "# concatenating - an option to +\n",
    "# make a list\n",
    "list_to_make_string = []\n",
    "# add the strings\n",
    "list_to_make_string.append('Message1')\n",
    "list_to_make_string.append('Message2')\n",
    "list_to_make_string.append('Message3')\n",
    "# use the join function to make a string where they are all separated by the given delimiter\n",
    "new_string = ' | '.join(list_to_make_string)\n",
    "print(new_string)"
   ]
  },
  {
   "cell_type": "code",
   "execution_count": null,
   "metadata": {},
   "outputs": [],
   "source": [
    "# .values makes a dictionary! saves some steps - HANDY\n",
    "block_dict = AssayPlateReaderMapDataFileBlock.objects.filter(\n",
    "    assayplatereadermapdatafile=pk_for_file\n",
    ").prefetch_related(\n",
    "    'assayplatereadermap',\n",
    "    'assayplatereadermapdatafile',\n",
    ").values()"
   ]
  },
  {
   "cell_type": "code",
   "execution_count": null,
   "metadata": {},
   "outputs": [],
   "source": [
    "# to use a model with a different return format\n",
    "# monkey patch to display method target and unit combo as needed \n",
    "class AbstractClassAssayStudyAssayOmic(AssayStudyAssay):\n",
    "    class Meta:\n",
    "        proxy = True\n",
    "\n",
    "    def __str__(self):\n",
    "        return 'TARGET: {0} METHOD: {1} UNIT: {2}'.format(self.target, self.method, self.unit)\n",
    "    \n",
    "# note, AssayStudyAssay is pk, study_id, target, method, unit"
   ]
  },
  {
   "cell_type": "code",
   "execution_count": null,
   "metadata": {},
   "outputs": [],
   "source": [
    "# streamline target__in instead of getting a list of pks and using that\n",
    "# AssayCategory has a name and targets = models.ManyToManyField('assays.AssayTarget', verbose_name='Targets')\n",
    "\n",
    "study_assay_queryset = AbstractClassAssayStudyAssayOmic.objects.filter(\n",
    "    study_id=self.instance.study.id,\n",
    ").filter(\n",
    "    target__in=AssayTarget.objects.filter(assaycategory__name=\"Gene Expression\")\n",
    ").prefetch_related(\n",
    "    'target',\n",
    "    'method',\n",
    "    'unit',\n",
    ")\n",
    "number_of_omic_targets_in_study = study_assay_queryset.count()\n",
    "# number will evaluate as a number or false, so can use if number....\n",
    "\n",
    "# note that exclude() behaves differently, and often to achieve what you want you must chain exclude())"
   ]
  },
  {
   "cell_type": "code",
   "execution_count": null,
   "metadata": {},
   "outputs": [],
   "source": [
    "# use .count() instead of len() when possible to save runtime and memory"
   ]
  },
  {
   "cell_type": "code",
   "execution_count": null,
   "metadata": {},
   "outputs": [],
   "source": [
    "# to add a class in forms.py, do \n",
    "self.fields['group_2'].widget.attrs['class'] += ' required'\n",
    "# the following replaces existing\n",
    "self.fields['group_2'].widget.attrs.update({'class': ' required'})\n",
    "\n",
    "# HANDY for adding classes in forms\n",
    "# NO self.fields['group_1'].widget.attrs.update({'class': ' required'})\n",
    "# YES self.fields['group_1'].widget.attrs['class'] += 'required'\n",
    "# BUT, the above does not work on selectized, just do addClass in javascript\n",
    "# i.e.: $('#id_time_unit').next().addClass('required');"
   ]
  },
  {
   "cell_type": "code",
   "execution_count": null,
   "metadata": {},
   "outputs": [],
   "source": [
    "# HANDY - save problems, likely the cause (required fields)\n",
    "# self.fields['form_data_processing_multiplier_string'].required = False\n",
    "\n",
    "# HANDY - how to make an extra field a widget so can manipulate it eg readonly\n",
    "# form_data_processing_multiplier_string = forms.CharField(\n",
    "#     widget=forms.Textarea(attrs={'rows': 3, 'readonly': 'readonly', 'required': False})\n",
    "# )"
   ]
  },
  {
   "cell_type": "code",
   "execution_count": null,
   "metadata": {},
   "outputs": [],
   "source": [
    "# HANDY - turn off selectize in forms.py (check this - see above)\n",
    "# self.fields['volume_unit'].widget.attrs.update({'class': 'no-selectize'})\n",
    "# add a class in forms.py\n",
    "# self.fields['volume_unit'].widget.attrs['class'] += ' form-control'"
   ]
  },
  {
   "cell_type": "code",
   "execution_count": null,
   "metadata": {},
   "outputs": [],
   "source": [
    "# if you need the pks, you can use .values_list('pk', flat=True)"
   ]
  },
  {
   "cell_type": "code",
   "execution_count": null,
   "metadata": {},
   "outputs": [],
   "source": [
    "# for large queries, make sure to use filters rather than \n",
    "# having a conditional if inside the dictionary comprehension (or whatever else)"
   ]
  },
  {
   "cell_type": "code",
   "execution_count": null,
   "metadata": {},
   "outputs": [],
   "source": [
    "# team member request for function names to follow pep and NOT be snake case"
   ]
  },
  {
   "cell_type": "code",
   "execution_count": null,
   "metadata": {},
   "outputs": [],
   "source": [
    "# when using foreign keys, do not forget to use the _id \n",
    "instance = AssayOmicDataPointCounts(\n",
    "    study_id=study_id,\n",
    "    omic_data_file_id=omic_data_file_id,\n",
    "    sample_metadata_id=sample_name_pk_list[i],\n",
    "    name=name,\n",
    "    analysis_target_id=target_pk,\n",
    "    value=value\n",
    ")\n",
    "\n",
    "# HANDY combine filters with commas in queryset\n",
    "target_matches = AssayOmicAnalysisTarget.objects.filter(\n",
    "    data_type=data_type,\n",
    "    method=analysis_method\n",
    ")"
   ]
  },
  {
   "cell_type": "code",
   "execution_count": null,
   "metadata": {},
   "outputs": [],
   "source": [
    "# when add field to queryset - must do it last - get the example from the help\n",
    "\n",
    "# put the count of the blocks into the queryset of platemaps (this is very HANDY)\n",
    "for file in assayplatereadermaps:\n",
    "    file.block_count = file_block_count_dict.get(int(file.id))\n",
    "    # print(\"block added to queryset: \", file.id, \" \",file.description, \" \", file.block_count)\n",
    "context['assayplatereadermaps'] = assayplatereadermaps\n",
    "\n",
    "# get the data sources for each feature and add them to the feature\n",
    "for each in feature:\n",
    "    this_list = []\n",
    "    this_list_string = ''\n",
    "    for s in each.data_sources.all():\n",
    "        s_help_order = s.help_order\n",
    "        this_list.append(s_help_order)\n",
    "    this_list.sort()\n",
    "    this_list_string = ', '.join(map(str, this_list))\n",
    "\n",
    "    # HANDY - add field to queryset add a field to a queryset\n",
    "    # Adding a field must be the LAST THING you do or the field will get removed\n",
    "    each.source_list = this_list_string\n",
    "#the next thing done with feature is added to a dict to send to js\n",
    "\n"
   ]
  },
  {
   "cell_type": "code",
   "execution_count": null,
   "metadata": {},
   "outputs": [],
   "source": [
    "# when using a review/view, do not want to actually send in a form\n",
    "# this is the team work around\n",
    "class AssayOmicDataFileUploadDetail(StudyGroupMixin, DetailHandlerView):\n",
    "    \"\"\"Views Detail Upload an AssayOmicDataFileUpload file \"\"\"\n",
    "\n",
    "    model = AssayOmicDataFileUpload\n",
    "    template_name = 'assays/assayomicdatafileupload_aur.html'\n",
    "    # do not need this since using the hacky way below -- form_class = AssayOmicDataFileUploadForm\n",
    "\n",
    "    def get_context_data(self, **kwargs):\n",
    "        context = super(AssayOmicDataFileUploadDetail, self).get_context_data(**kwargs)\n",
    "        context['review'] = True\n",
    "        context['page_called'] = 'review'\n",
    "\n",
    "        # HANDY to use DetailView in a View view and trick Django into getting the form\n",
    "        context.update({\n",
    "            'form': AssayOmicDataFileUploadForm(instance=self.object),\n",
    "        })\n",
    "\n",
    "        return context"
   ]
  },
  {
   "cell_type": "code",
   "execution_count": null,
   "metadata": {},
   "outputs": [],
   "source": [
    "# HANDY to reorder queryset\n",
    "self.queryset = self.queryset.order_by('assayplatereadermapdatafile', 'assayplatereadermapdatafileblock', 'plate_index')\n",
    "# https://stackoverflow.com/questions/13387446/changing-the-display-order-of-forms-in-a-formset\n",
    "  \n",
    "# HANDY - super important - if use an order_by you make a new queryset!\n",
    "# https://stackoverflow.com/questions/51709984/sort-queryset-by-added-field    "
   ]
  },
  {
   "cell_type": "code",
   "execution_count": null,
   "metadata": {},
   "outputs": [],
   "source": [
    "# HANDY get server path website address\n",
    "# print(\"request.build_absolute_uri() \",request.build_absolute_uri())\n",
    "# print(\"request.get_full_path() \", request.get_full_path())\n",
    "# request.build_absolute_uri()  http://127.0.0.1:8000/help/\n",
    "# request.get_full_path()  /help/\n",
    "help_url = request.build_absolute_uri()"
   ]
  },
  {
   "cell_type": "code",
   "execution_count": null,
   "metadata": {},
   "outputs": [],
   "source": [
    "# this is an old tip...not sure still relavent\n",
    "# this made the dropdown behave when copied with the formset!\n",
    "# SUPER IMPORTANT and HANDY when need to copy formsets with dropdowns - if have selectized, it is a big mess\n",
    "self.fields['assayplatereadermap'].widget.attrs.update({'class': ' no-selectize required'})\n"
   ]
  },
  {
   "cell_type": "code",
   "execution_count": null,
   "metadata": {},
   "outputs": [],
   "source": [
    "# HANDY to limit options in a dropdown on a model field in a form\n",
    "self.fields['group_1'].queryset = data_groups_filtered"
   ]
  },
  {
   "cell_type": "code",
   "execution_count": null,
   "metadata": {},
   "outputs": [],
   "source": [
    "# HANDY for getting a file object and a file queryset when doing clean vrs save\n",
    "# this has to be different because the file is not saved yet during the clean\n",
    "if called_from == 'clean':\n",
    "    # this function is in utils.py\n",
    "    # print('form clean')\n",
    "    data_file = data.get('omic_data_file')\n",
    "    a_returned = omic_data_file_processing_data_main_for_all_data_types(save, self.study.id, data_file_pk, data_file, file_extension, called_from, data_type, analysis_method)\n",
    "else:\n",
    "    # print('form save')\n",
    "    queryset = AssayOmicDataFileUpload.objects.get(id=data_file_pk)\n",
    "    data_file = queryset.omic_data_file.open()\n",
    "    a_returned = omic_data_file_processing_data_main_for_all_data_types(save, self.study.id, data_file_pk, data_file, file_extension, called_from, data_type, analysis_method)\n"
   ]
  },
  {
   "cell_type": "code",
   "execution_count": null,
   "metadata": {},
   "outputs": [],
   "source": [
    "# different ways of saving forms and formsets\n",
    "\n",
    "# print(\"form.cleaned_data.get('form_number_file_block_combos') \",form.cleaned_data.get('form_number_file_block_combos'))\n",
    "if int(form.cleaned_data.get('form_number_file_block_combos')) == 0:\n",
    "    save_forms_with_tracking(self, form, formset=formsets, update=True)\n",
    "# HANDY - to Save just the form and not the formset\n",
    "else:\n",
    "    # Note that we elect NOT to send the formset\n",
    "    save_forms_with_tracking(self, form, formset=[], update=True)"
   ]
  },
  {
   "cell_type": "code",
   "execution_count": null,
   "metadata": {},
   "outputs": [],
   "source": [
    "            # 1D numpy array HANDY\n",
    "            N100 = np.asarray(N100x)\n",
    "            # 2D numpy array\n",
    "            # N100 = np.array(N100x).reshape(-1, 1)"
   ]
  },
  {
   "cell_type": "code",
   "execution_count": null,
   "metadata": {},
   "outputs": [],
   "source": [
    "#     # HANDY - must sort in place or get empty list back\n",
    "#     # copy list to new variable\n",
    "#     plate_sizes = assay_plate_reader_map_info_plate_size_choices_list\n",
    "#     # sort in place\n",
    "#     plate_sizes.sort()\n",
    "#     # print(\"list after sorting \", plate_sizes)"
   ]
  },
  {
   "cell_type": "code",
   "execution_count": null,
   "metadata": {},
   "outputs": [],
   "source": [
    "# this is and old tip when working with forms and formsets...not sure still relavant\n",
    "# One for each field in the form - HANDY\n",
    "# countis=0\n",
    "# for each in form:\n",
    "#     .print(\"FORM \", countis)\n",
    "#     .print(each)\n",
    "#     countis=countis+1\n",
    "\n",
    "# One for each SAVED (no extra) formset, but hard to parse - HANDY\n",
    "# countss=0\n",
    "# for each in formset:\n",
    "#     .print(\"FORMSET: \", countss)\n",
    "#     .print(each)\n",
    "#     # print(each.data_block)  --  gives error, cannot get this way\n",
    "#     countss=countss+1"
   ]
  },
  {
   "cell_type": "code",
   "execution_count": null,
   "metadata": {},
   "outputs": [],
   "source": [
    "# an old tip, not sure still relavant\n",
    "        if form.is_valid() and formsets_are_valid:\n",
    "\n",
    "            instance = form.save(commit=False)\n",
    "            # example of what can be done here - HANDY\n",
    "            # this executes ONCE - if need for each formset - put in forms.py\n",
    "            # password = form.cleaned_data.get(‘password’)\n",
    "            # instance.set_password(password)\n",
    "            # can do this BEFORE instance.save(), after, they are none\n",
    "            data_block = form.cleaned_data.get('data_block')\n",
    "            line_start = form.cleaned_data.get('line_start')\n",
    "            # print(\"data_block \", data_block) --- None until saved\n",
    "\n",
    "            instance.save()\n",
    "            formset.save()"
   ]
  },
  {
   "cell_type": "code",
   "execution_count": null,
   "metadata": {},
   "outputs": [],
   "source": [
    "# to get boxes to show of m2m relationships in the admin\n",
    "# HANDY m2m right side many to many admin boxes m2m right (the multi selection widget)\n",
    "filter_horizontal = ('data_sources',)\n",
    "# https://stackoverflow.com/questions/22968631/how-to-filter-filter-horizontal-in-django-admin\n",
    "\n",
    "# HANDY - to get a field to show green checks and red xs in an admin list\n",
    "def is_url(self):\n",
    "    if len(self.reference) > 2:\n",
    "        return True\n",
    "    else:\n",
    "        return False\n",
    "is_url.boolean = True"
   ]
  },
  {
   "cell_type": "code",
   "execution_count": null,
   "metadata": {},
   "outputs": [],
   "source": [
    "# Mixins and such.....\n",
    "\n",
    "# HANDY - if it has a list page, it should be a LockableModel - to get the user metadata saved)\n",
    "class Resource(LockableModel):"
   ]
  }
 ],
 "metadata": {
  "kernelspec": {
   "display_name": "Python 3",
   "language": "python",
   "name": "python3"
  },
  "language_info": {
   "codemirror_mode": {
    "name": "ipython",
    "version": 3
   },
   "file_extension": ".py",
   "mimetype": "text/x-python",
   "name": "python",
   "nbconvert_exporter": "python",
   "pygments_lexer": "ipython3",
   "version": "3.6.9"
  },
  "pycharm": {
   "stem_cell": {
    "cell_type": "raw",
    "metadata": {
     "collapsed": false
    },
    "source": []
   }
  }
 },
 "nbformat": 4,
 "nbformat_minor": 2
}
